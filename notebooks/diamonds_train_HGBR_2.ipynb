{
 "cells": [
  {
   "cell_type": "code",
   "execution_count": 2,
   "id": "9e7f41b8",
   "metadata": {},
   "outputs": [],
   "source": [
    "import time\n",
    "import pandas as pd\n",
    "import numpy as np\n",
    "\n",
    "import seaborn as sns\n",
    "import matplotlib.pylab as plt\n",
    "\n",
    "from sklearn.model_selection import train_test_split\n",
    "\n",
    "from sklearn.ensemble import HistGradientBoostingRegressor\n",
    "from sklearn.ensemble import GradientBoostingRegressor\n",
    "\n",
    "from sklearn.model_selection import cross_val_score, GridSearchCV\n",
    "\n",
    "from sklearn.preprocessing import RobustScaler, StandardScaler, MinMaxScaler\n",
    "from sklearn.preprocessing import LabelEncoder\n",
    "\n",
    "from sklearn.metrics import mean_squared_error\n",
    "from sklearn.metrics import r2_score\n",
    "\n",
    "from sklearn.inspection import permutation_importance\n"
   ]
  },
  {
   "cell_type": "markdown",
   "id": "082edcc6",
   "metadata": {},
   "source": [
    "### Functions"
   ]
  },
  {
   "cell_type": "code",
   "execution_count": 43,
   "id": "359db23d",
   "metadata": {},
   "outputs": [],
   "source": [
    "def ordinal_encoding(df):\n",
    "    #df['cut'] = df['cut'].replace({'Fair': 1\n",
    "    #                               'Good': 2,\n",
    "    #                               'Very Good': 3,\n",
    "    #                               'Premium': 4,\n",
    "    #                               'Ideal': 5}\n",
    "    \n",
    "    #df['color'] = df['color'].replace({'D': 1\n",
    "    #                                   'E': 2\n",
    "    #                                   'F': 3\n",
    "    #                                   'G': 4\n",
    "    #                                   'H': 5\n",
    "    #                                   'I': 6\n",
    "    #                                   'J': 7}\n",
    "    \n",
    "    #df['clarity'] = df['clarity'].replace({'VVS1': 1\n",
    "    #                                       'VVS2': 2\n",
    "    #                                       'VS1':  3\n",
    "    #                                       'VS2':  4\n",
    "    #                                       'SI1':  5\n",
    "    #                                       'SI2':  6\n",
    "    #                                       'I1':   7\n",
    "    #                                       'IF':   8}\n",
    "    df['cut'] = df['cut'].replace({'Fair': 1,\n",
    "                                   'Good': 2, \n",
    "                                   'Very Good': 3, \n",
    "                                   'Premium': 4, \n",
    "                                   'Ideal': 5})\n",
    "\n",
    "    df['color'] = df['color'].replace({'D': 7,\n",
    "                                       'E': 6,\n",
    "                                       'F': 5,\n",
    "                                       'G': 4,\n",
    "                                       'H': 3,\n",
    "                                       'I': 2,\n",
    "                                       'J': 1})\n",
    "\n",
    "    df['clarity'] = df['clarity'].replace({'I1': 1,\n",
    "                                           'SI2': 2,\n",
    "                                           'SI1': 3,\n",
    "                                           'VS2': 4,\n",
    "                                           'VS1': 5,\n",
    "                                           'VVS2': 6,\n",
    "                                           'VVS1': 7,\n",
    "                                           'IF': 8})\n",
    "\n",
    "    return df"
   ]
  },
  {
   "cell_type": "code",
   "execution_count": 44,
   "id": "f672c264",
   "metadata": {},
   "outputs": [],
   "source": [
    "def add_features(df):\n",
    "    df['volume'] = df['x'] * df['y'] * df['z']\n",
    "        \n",
    "    return df"
   ]
  },
  {
   "cell_type": "code",
   "execution_count": 45,
   "id": "512d9e2e",
   "metadata": {},
   "outputs": [],
   "source": [
    "def scaling_log(df):\n",
    "    df['carat'] = df['carat'].apply(lambda x: np.log(x) if x != 0 else 0)\n",
    "    df['cut'] = df['cut'].apply(lambda x: np.log(x) if x != 0 else 0)\n",
    "    df['color'] = df['color'].apply(lambda x: np.log(x) if x != 0 else 0)\n",
    "    df['clarity'] = df['clarity'].apply(lambda x: np.log(x) if x != 0 else 0)\n",
    "    df['depth'] = df['depth'].apply(lambda x: np.log(x) if x != 0 else 0)\n",
    "    df['table'] = df['table'].apply(lambda x: np.log(x) if x != 0 else 0)\n",
    "    df['volume'] = df['volume'].apply(lambda x: np.log(x) if x != 0 else 0)\n",
    "    \n",
    "    return df"
   ]
  },
  {
   "cell_type": "code",
   "execution_count": 46,
   "id": "c8844351",
   "metadata": {},
   "outputs": [],
   "source": [
    "def X_y_split(df, features, target):\n",
    "    X = df[features]\n",
    "    if (target != ''):\n",
    "        y = df[target]\n",
    "    else:\n",
    "        y = None\n",
    "    return X, y"
   ]
  },
  {
   "cell_type": "code",
   "execution_count": 47,
   "id": "7c1f1f84",
   "metadata": {},
   "outputs": [],
   "source": [
    "def scaling(X):\n",
    "    scaler = RobustScaler()\n",
    "    #scaler = StandardScaler()\n",
    "    #scaler = MinMaxScaler()\n",
    "    X = pd.DataFrame(scaler.fit_transform(X), columns=cols_features)\n",
    "    \n",
    "    return X"
   ]
  },
  {
   "cell_type": "code",
   "execution_count": 48,
   "id": "28406423",
   "metadata": {},
   "outputs": [],
   "source": [
    "def test_predict(df_test, m):\n",
    "    df_pred = pd.DataFrame(m.predict(df_test), columns=['price']).reset_index().rename(columns={'index': 'id'})\n",
    "    return df_pred"
   ]
  },
  {
   "cell_type": "code",
   "execution_count": 49,
   "id": "cdfd7479",
   "metadata": {},
   "outputs": [],
   "source": [
    "def save_csv(df, test_id):\n",
    "    df.to_csv(f'../data/results/diamonds_results_{test_id}.csv', index=False)"
   ]
  },
  {
   "cell_type": "markdown",
   "id": "3d2d6188",
   "metadata": {},
   "source": [
    "### Analysis"
   ]
  },
  {
   "cell_type": "code",
   "execution_count": 50,
   "id": "5b0eae5e",
   "metadata": {},
   "outputs": [],
   "source": [
    "pd.set_option('display.max_columns', None)"
   ]
  },
  {
   "cell_type": "code",
   "execution_count": 51,
   "id": "4d583b24",
   "metadata": {},
   "outputs": [
    {
     "data": {
      "text/html": [
       "<div>\n",
       "<style scoped>\n",
       "    .dataframe tbody tr th:only-of-type {\n",
       "        vertical-align: middle;\n",
       "    }\n",
       "\n",
       "    .dataframe tbody tr th {\n",
       "        vertical-align: top;\n",
       "    }\n",
       "\n",
       "    .dataframe thead th {\n",
       "        text-align: right;\n",
       "    }\n",
       "</style>\n",
       "<table border=\"1\" class=\"dataframe\">\n",
       "  <thead>\n",
       "    <tr style=\"text-align: right;\">\n",
       "      <th></th>\n",
       "      <th>id</th>\n",
       "      <th>price</th>\n",
       "      <th>carat</th>\n",
       "      <th>city</th>\n",
       "      <th>cut</th>\n",
       "      <th>color</th>\n",
       "      <th>clarity</th>\n",
       "      <th>depth</th>\n",
       "      <th>table</th>\n",
       "      <th>x</th>\n",
       "      <th>y</th>\n",
       "      <th>z</th>\n",
       "    </tr>\n",
       "  </thead>\n",
       "  <tbody>\n",
       "    <tr>\n",
       "      <th>0</th>\n",
       "      <td>5feceb66ffc86f38d952786c6d696c79c2dbc239dd4e91...</td>\n",
       "      <td>4268</td>\n",
       "      <td>1.21</td>\n",
       "      <td>Kimberly</td>\n",
       "      <td>Premium</td>\n",
       "      <td>J</td>\n",
       "      <td>VS2</td>\n",
       "      <td>62.4</td>\n",
       "      <td>58.0</td>\n",
       "      <td>6.83</td>\n",
       "      <td>6.79</td>\n",
       "      <td>4.25</td>\n",
       "    </tr>\n",
       "    <tr>\n",
       "      <th>1</th>\n",
       "      <td>248aa2bdd0032920ac9e5f6ad36c350549da067efeaf7b...</td>\n",
       "      <td>4839</td>\n",
       "      <td>1.20</td>\n",
       "      <td>Kimberly</td>\n",
       "      <td>Premium</td>\n",
       "      <td>J</td>\n",
       "      <td>VS2</td>\n",
       "      <td>60.8</td>\n",
       "      <td>60.0</td>\n",
       "      <td>6.85</td>\n",
       "      <td>6.89</td>\n",
       "      <td>4.18</td>\n",
       "    </tr>\n",
       "  </tbody>\n",
       "</table>\n",
       "</div>"
      ],
      "text/plain": [
       "                                                  id  price  carat      city  \\\n",
       "0  5feceb66ffc86f38d952786c6d696c79c2dbc239dd4e91...   4268   1.21  Kimberly   \n",
       "1  248aa2bdd0032920ac9e5f6ad36c350549da067efeaf7b...   4839   1.20  Kimberly   \n",
       "\n",
       "       cut color clarity  depth  table     x     y     z  \n",
       "0  Premium     J     VS2   62.4   58.0  6.83  6.79  4.25  \n",
       "1  Premium     J     VS2   60.8   60.0  6.85  6.89  4.18  "
      ]
     },
     "execution_count": 51,
     "metadata": {},
     "output_type": "execute_result"
    }
   ],
   "source": [
    "# load df train\n",
    "diamonds_train = pd.read_csv('../data/diamonds_train.csv').rename(columns={'index_id': 'id'})\n",
    "diamonds_train.head(2)"
   ]
  },
  {
   "cell_type": "markdown",
   "id": "e1c7fb83",
   "metadata": {},
   "source": [
    "### Data clean"
   ]
  },
  {
   "cell_type": "code",
   "execution_count": 52,
   "id": "13e7d207",
   "metadata": {},
   "outputs": [],
   "source": [
    "diamonds_train_clean = diamonds_train.copy()"
   ]
  },
  {
   "cell_type": "code",
   "execution_count": 53,
   "id": "a0f350b2",
   "metadata": {},
   "outputs": [
    {
     "data": {
      "text/html": [
       "<div>\n",
       "<style scoped>\n",
       "    .dataframe tbody tr th:only-of-type {\n",
       "        vertical-align: middle;\n",
       "    }\n",
       "\n",
       "    .dataframe tbody tr th {\n",
       "        vertical-align: top;\n",
       "    }\n",
       "\n",
       "    .dataframe thead th {\n",
       "        text-align: right;\n",
       "    }\n",
       "</style>\n",
       "<table border=\"1\" class=\"dataframe\">\n",
       "  <thead>\n",
       "    <tr style=\"text-align: right;\">\n",
       "      <th></th>\n",
       "      <th>id</th>\n",
       "      <th>price</th>\n",
       "      <th>carat</th>\n",
       "      <th>city</th>\n",
       "      <th>cut</th>\n",
       "      <th>color</th>\n",
       "      <th>clarity</th>\n",
       "      <th>depth</th>\n",
       "      <th>table</th>\n",
       "      <th>x</th>\n",
       "      <th>y</th>\n",
       "      <th>z</th>\n",
       "    </tr>\n",
       "  </thead>\n",
       "  <tbody>\n",
       "    <tr>\n",
       "      <th>0</th>\n",
       "      <td>5feceb66ffc86f38d952786c6d696c79c2dbc239dd4e91...</td>\n",
       "      <td>4268</td>\n",
       "      <td>1.21</td>\n",
       "      <td>Kimberly</td>\n",
       "      <td>4</td>\n",
       "      <td>1</td>\n",
       "      <td>4</td>\n",
       "      <td>62.4</td>\n",
       "      <td>58.0</td>\n",
       "      <td>6.83</td>\n",
       "      <td>6.79</td>\n",
       "      <td>4.25</td>\n",
       "    </tr>\n",
       "    <tr>\n",
       "      <th>1</th>\n",
       "      <td>248aa2bdd0032920ac9e5f6ad36c350549da067efeaf7b...</td>\n",
       "      <td>4839</td>\n",
       "      <td>1.20</td>\n",
       "      <td>Kimberly</td>\n",
       "      <td>4</td>\n",
       "      <td>1</td>\n",
       "      <td>4</td>\n",
       "      <td>60.8</td>\n",
       "      <td>60.0</td>\n",
       "      <td>6.85</td>\n",
       "      <td>6.89</td>\n",
       "      <td>4.18</td>\n",
       "    </tr>\n",
       "  </tbody>\n",
       "</table>\n",
       "</div>"
      ],
      "text/plain": [
       "                                                  id  price  carat      city  \\\n",
       "0  5feceb66ffc86f38d952786c6d696c79c2dbc239dd4e91...   4268   1.21  Kimberly   \n",
       "1  248aa2bdd0032920ac9e5f6ad36c350549da067efeaf7b...   4839   1.20  Kimberly   \n",
       "\n",
       "   cut  color  clarity  depth  table     x     y     z  \n",
       "0    4      1        4   62.4   58.0  6.83  6.79  4.25  \n",
       "1    4      1        4   60.8   60.0  6.85  6.89  4.18  "
      ]
     },
     "execution_count": 53,
     "metadata": {},
     "output_type": "execute_result"
    }
   ],
   "source": [
    "# ordinal\n",
    "diamonds_train_clean = ordinal_encoding(diamonds_train_clean)\n",
    "diamonds_train_clean.head(2)"
   ]
  },
  {
   "cell_type": "code",
   "execution_count": 54,
   "id": "e429de58",
   "metadata": {},
   "outputs": [
    {
     "data": {
      "text/html": [
       "<div>\n",
       "<style scoped>\n",
       "    .dataframe tbody tr th:only-of-type {\n",
       "        vertical-align: middle;\n",
       "    }\n",
       "\n",
       "    .dataframe tbody tr th {\n",
       "        vertical-align: top;\n",
       "    }\n",
       "\n",
       "    .dataframe thead th {\n",
       "        text-align: right;\n",
       "    }\n",
       "</style>\n",
       "<table border=\"1\" class=\"dataframe\">\n",
       "  <thead>\n",
       "    <tr style=\"text-align: right;\">\n",
       "      <th></th>\n",
       "      <th>id</th>\n",
       "      <th>price</th>\n",
       "      <th>carat</th>\n",
       "      <th>city</th>\n",
       "      <th>cut</th>\n",
       "      <th>color</th>\n",
       "      <th>clarity</th>\n",
       "      <th>depth</th>\n",
       "      <th>table</th>\n",
       "      <th>x</th>\n",
       "      <th>y</th>\n",
       "      <th>z</th>\n",
       "      <th>volume</th>\n",
       "    </tr>\n",
       "  </thead>\n",
       "  <tbody>\n",
       "    <tr>\n",
       "      <th>0</th>\n",
       "      <td>5feceb66ffc86f38d952786c6d696c79c2dbc239dd4e91...</td>\n",
       "      <td>4268</td>\n",
       "      <td>1.21</td>\n",
       "      <td>Kimberly</td>\n",
       "      <td>4</td>\n",
       "      <td>1</td>\n",
       "      <td>4</td>\n",
       "      <td>62.4</td>\n",
       "      <td>58.0</td>\n",
       "      <td>6.83</td>\n",
       "      <td>6.79</td>\n",
       "      <td>4.25</td>\n",
       "      <td>197.096725</td>\n",
       "    </tr>\n",
       "    <tr>\n",
       "      <th>1</th>\n",
       "      <td>248aa2bdd0032920ac9e5f6ad36c350549da067efeaf7b...</td>\n",
       "      <td>4839</td>\n",
       "      <td>1.20</td>\n",
       "      <td>Kimberly</td>\n",
       "      <td>4</td>\n",
       "      <td>1</td>\n",
       "      <td>4</td>\n",
       "      <td>60.8</td>\n",
       "      <td>60.0</td>\n",
       "      <td>6.85</td>\n",
       "      <td>6.89</td>\n",
       "      <td>4.18</td>\n",
       "      <td>197.281370</td>\n",
       "    </tr>\n",
       "  </tbody>\n",
       "</table>\n",
       "</div>"
      ],
      "text/plain": [
       "                                                  id  price  carat      city  \\\n",
       "0  5feceb66ffc86f38d952786c6d696c79c2dbc239dd4e91...   4268   1.21  Kimberly   \n",
       "1  248aa2bdd0032920ac9e5f6ad36c350549da067efeaf7b...   4839   1.20  Kimberly   \n",
       "\n",
       "   cut  color  clarity  depth  table     x     y     z      volume  \n",
       "0    4      1        4   62.4   58.0  6.83  6.79  4.25  197.096725  \n",
       "1    4      1        4   60.8   60.0  6.85  6.89  4.18  197.281370  "
      ]
     },
     "execution_count": 54,
     "metadata": {},
     "output_type": "execute_result"
    }
   ],
   "source": [
    "# feature engineering\n",
    "diamonds_train_clean = add_features(diamonds_train_clean)\n",
    "diamonds_train_clean.head(2)"
   ]
  },
  {
   "cell_type": "code",
   "execution_count": null,
   "id": "bfbf1baf",
   "metadata": {},
   "outputs": [],
   "source": [
    "# log\n",
    "##diamonds_train_clean = scaling_log(diamonds_train_clean)\n",
    "##diamonds_train_clean.head(2)"
   ]
  },
  {
   "cell_type": "markdown",
   "id": "23f7ad4f",
   "metadata": {},
   "source": [
    "### Features and target"
   ]
  },
  {
   "cell_type": "code",
   "execution_count": 55,
   "id": "b9f25a1e",
   "metadata": {},
   "outputs": [
    {
     "name": "stdout",
     "output_type": "stream",
     "text": [
      "(40455, 7) (40455,)\n"
     ]
    }
   ],
   "source": [
    "# features and target\n",
    "cols_features = ['carat', 'cut', 'color', 'clarity', 'depth', 'table', 'volume']\n",
    "\n",
    "col_target = 'price'\n",
    "\n",
    "X, y = X_y_split(diamonds_train_clean, cols_features, col_target)\n",
    "\n",
    "print(X.shape, y.shape)"
   ]
  },
  {
   "cell_type": "code",
   "execution_count": 56,
   "id": "310389a6",
   "metadata": {},
   "outputs": [
    {
     "data": {
      "text/html": [
       "<div>\n",
       "<style scoped>\n",
       "    .dataframe tbody tr th:only-of-type {\n",
       "        vertical-align: middle;\n",
       "    }\n",
       "\n",
       "    .dataframe tbody tr th {\n",
       "        vertical-align: top;\n",
       "    }\n",
       "\n",
       "    .dataframe thead th {\n",
       "        text-align: right;\n",
       "    }\n",
       "</style>\n",
       "<table border=\"1\" class=\"dataframe\">\n",
       "  <thead>\n",
       "    <tr style=\"text-align: right;\">\n",
       "      <th></th>\n",
       "      <th>carat</th>\n",
       "      <th>cut</th>\n",
       "      <th>color</th>\n",
       "      <th>clarity</th>\n",
       "      <th>depth</th>\n",
       "      <th>table</th>\n",
       "      <th>volume</th>\n",
       "    </tr>\n",
       "  </thead>\n",
       "  <tbody>\n",
       "    <tr>\n",
       "      <th>0</th>\n",
       "      <td>1.21</td>\n",
       "      <td>4</td>\n",
       "      <td>1</td>\n",
       "      <td>4</td>\n",
       "      <td>62.4</td>\n",
       "      <td>58.0</td>\n",
       "      <td>197.096725</td>\n",
       "    </tr>\n",
       "    <tr>\n",
       "      <th>1</th>\n",
       "      <td>1.20</td>\n",
       "      <td>4</td>\n",
       "      <td>1</td>\n",
       "      <td>4</td>\n",
       "      <td>60.8</td>\n",
       "      <td>60.0</td>\n",
       "      <td>197.281370</td>\n",
       "    </tr>\n",
       "  </tbody>\n",
       "</table>\n",
       "</div>"
      ],
      "text/plain": [
       "   carat  cut  color  clarity  depth  table      volume\n",
       "0   1.21    4      1        4   62.4   58.0  197.096725\n",
       "1   1.20    4      1        4   60.8   60.0  197.281370"
      ]
     },
     "execution_count": 56,
     "metadata": {},
     "output_type": "execute_result"
    }
   ],
   "source": [
    "X.head(2)"
   ]
  },
  {
   "cell_type": "markdown",
   "id": "a689c613",
   "metadata": {},
   "source": [
    "### Scaling"
   ]
  },
  {
   "cell_type": "code",
   "execution_count": 57,
   "id": "fbb0e256",
   "metadata": {},
   "outputs": [
    {
     "data": {
      "text/html": [
       "<div>\n",
       "<style scoped>\n",
       "    .dataframe tbody tr th:only-of-type {\n",
       "        vertical-align: middle;\n",
       "    }\n",
       "\n",
       "    .dataframe tbody tr th {\n",
       "        vertical-align: top;\n",
       "    }\n",
       "\n",
       "    .dataframe thead th {\n",
       "        text-align: right;\n",
       "    }\n",
       "</style>\n",
       "<table border=\"1\" class=\"dataframe\">\n",
       "  <thead>\n",
       "    <tr style=\"text-align: right;\">\n",
       "      <th></th>\n",
       "      <th>carat</th>\n",
       "      <th>cut</th>\n",
       "      <th>color</th>\n",
       "      <th>clarity</th>\n",
       "      <th>depth</th>\n",
       "      <th>table</th>\n",
       "      <th>volume</th>\n",
       "    </tr>\n",
       "  </thead>\n",
       "  <tbody>\n",
       "    <tr>\n",
       "      <th>0</th>\n",
       "      <td>0.796875</td>\n",
       "      <td>0.0</td>\n",
       "      <td>-1.0</td>\n",
       "      <td>0.0</td>\n",
       "      <td>0.400000</td>\n",
       "      <td>0.333333</td>\n",
       "      <td>0.777758</td>\n",
       "    </tr>\n",
       "    <tr>\n",
       "      <th>1</th>\n",
       "      <td>0.781250</td>\n",
       "      <td>0.0</td>\n",
       "      <td>-1.0</td>\n",
       "      <td>0.0</td>\n",
       "      <td>-0.666667</td>\n",
       "      <td>1.000000</td>\n",
       "      <td>0.779501</td>\n",
       "    </tr>\n",
       "  </tbody>\n",
       "</table>\n",
       "</div>"
      ],
      "text/plain": [
       "      carat  cut  color  clarity     depth     table    volume\n",
       "0  0.796875  0.0   -1.0      0.0  0.400000  0.333333  0.777758\n",
       "1  0.781250  0.0   -1.0      0.0 -0.666667  1.000000  0.779501"
      ]
     },
     "execution_count": 57,
     "metadata": {},
     "output_type": "execute_result"
    }
   ],
   "source": [
    "# scaling\n",
    "X = scaling(X)\n",
    "X.head(2)"
   ]
  },
  {
   "cell_type": "markdown",
   "id": "3405b9e4",
   "metadata": {},
   "source": [
    "### Train and hyperparameters"
   ]
  },
  {
   "cell_type": "code",
   "execution_count": null,
   "id": "4b8120f7",
   "metadata": {},
   "outputs": [],
   "source": [
    "# model HistGradientBoostingRegressor"
   ]
  },
  {
   "cell_type": "code",
   "execution_count": null,
   "id": "8dae8b61",
   "metadata": {},
   "outputs": [],
   "source": [
    "# robust scaling\n",
    "\n",
    "start_time = time.time()\n",
    "\n",
    "# model\n",
    "model = HistGradientBoostingRegressor(random_state=42)\n",
    "hyperparameters = model.get_params()\n",
    "\n",
    "# train, test, split\n",
    "X_train, X_test, y_train, y_test = train_test_split(X, y, test_size=0.2, random_state=42)\n",
    "print(X_train.shape, X_test.shape, y_train.shape, y_test.shape)\n",
    "\n",
    "# cross validation\n",
    "n_scores = cross_val_score(model, X_train, y_train, scoring='neg_root_mean_squared_error', cv=10, n_jobs=-1)\n",
    "\n",
    "elapsed_time = time.time() - start_time\n",
    "\n",
    "print(model)\n",
    "print(n_scores)\n",
    "print(f'mean of scores: {np.mean(n_scores)}')\n",
    "print(f'time: {elapsed_time} seconds')\n"
   ]
  },
  {
   "cell_type": "code",
   "execution_count": null,
   "id": "6faaf4f2",
   "metadata": {},
   "outputs": [],
   "source": [
    "X.columns"
   ]
  },
  {
   "cell_type": "code",
   "execution_count": null,
   "id": "1a67f028",
   "metadata": {},
   "outputs": [],
   "source": [
    "params = {'max_depth': [2, 4, 8, 16, 32],\n",
    "          'max_iter': [10, 100, 1000, 10000]}\n",
    "\n",
    "grid = GridSearchCV(estimator=model, \n",
    "                    param_grid=params,\n",
    "                    cv=10,\n",
    "                    scoring='neg_root_mean_squared_error')\n",
    "\n",
    "start_time = time.time()\n",
    "grid.fit(X_train, y_train)\n",
    "elapsed_time = time.time() - start_time\n",
    "\n",
    "print(f'time: {elapsed_time} seconds')\n",
    "print(\"Best: %f using %s\" % (grid.best_score_, grid.best_params_))"
   ]
  },
  {
   "cell_type": "markdown",
   "id": "19e2afab",
   "metadata": {},
   "source": [
    "### Selected model"
   ]
  },
  {
   "cell_type": "code",
   "execution_count": 58,
   "id": "0a3ed35d",
   "metadata": {},
   "outputs": [
    {
     "name": "stdout",
     "output_type": "stream",
     "text": [
      "(32364, 7) (8091, 7) (32364,) (8091,)\n",
      "HistGradientBoostingRegressor(max_depth=8, max_iter=1000, random_state=42)\n",
      "[-530.98068306 -522.81793976 -563.17938749 -546.53206134 -577.34423977\n",
      " -551.45209324 -531.05429403 -544.53297304 -519.27107858 -563.49792782]\n",
      "mean of scores: -545.0662678120515\n",
      "time: 1.0341787338256836 seconds\n",
      "time: 0.49555015563964844 seconds\n"
     ]
    }
   ],
   "source": [
    "# robust scaling\n",
    "\n",
    "start_time = time.time()\n",
    "\n",
    "# model and best hyperparams\n",
    "model = HistGradientBoostingRegressor(random_state=42, max_depth=8, max_iter=1000)\n",
    "hyperparameters = model.get_params()\n",
    "\n",
    "# train, test, split\n",
    "X_train, X_test, y_train, y_test = train_test_split(X, y, test_size=0.2, random_state=42)\n",
    "print(X_train.shape, X_test.shape, y_train.shape, y_test.shape)\n",
    "\n",
    "# cross validation\n",
    "n_scores = cross_val_score(model, X_train, y_train, scoring='neg_root_mean_squared_error', cv=10, n_jobs=-1)\n",
    "\n",
    "elapsed_time = time.time() - start_time\n",
    "\n",
    "print(model)\n",
    "print(n_scores)\n",
    "print(f'mean of scores: {np.mean(n_scores)}')\n",
    "print(f'time: {elapsed_time} seconds')\n",
    "\n",
    "# training\n",
    "start_time = time.time()\n",
    "model.fit(X, y)\n",
    "elapsed_time = time.time() - start_time\n",
    "\n",
    "print(f'time: {elapsed_time} seconds')\n"
   ]
  },
  {
   "cell_type": "code",
   "execution_count": null,
   "id": "01845e15",
   "metadata": {},
   "outputs": [],
   "source": [
    "# ordinal encoding (manual order ascending) clarity, color, cut\n",
    "# RobustScaler\n",
    "# model selected HistGradientBoostingRegressor\n",
    "# hyperparams max_depth=8, max_iter=1000\n",
    "# add volume\n",
    "# remove city, x, y, z\n"
   ]
  },
  {
   "cell_type": "code",
   "execution_count": null,
   "id": "e90d4b8b",
   "metadata": {},
   "outputs": [],
   "source": [
    "X.columns"
   ]
  },
  {
   "cell_type": "markdown",
   "id": "3ff1b016",
   "metadata": {},
   "source": [
    "### Features importance"
   ]
  },
  {
   "cell_type": "code",
   "execution_count": 59,
   "id": "5c27e236",
   "metadata": {},
   "outputs": [
    {
     "name": "stdout",
     "output_type": "stream",
     "text": [
      "carat   3935.615 +/- 25.347\n",
      "volume  2481.133 +/- 17.219\n",
      "clarity 1198.284 +/- 20.178\n",
      "color   848.998 +/- 14.264\n",
      "cut     48.063 +/- 3.287\n",
      "depth   45.420 +/- 2.949\n",
      "table   25.254 +/- 2.378\n"
     ]
    }
   ],
   "source": [
    "r = permutation_importance(model, \n",
    "                           X_test, \n",
    "                           y_test,\n",
    "                           n_repeats=30,\n",
    "                           random_state=42,\n",
    "                           scoring='neg_root_mean_squared_error')\n",
    "\n",
    "for i in r.importances_mean.argsort()[::-1]:\n",
    "    if r.importances_mean[i] - 2 * r.importances_std[i] > 0:\n",
    "        print(f'{X.columns[i]:<8}'\n",
    "              f'{r.importances_mean[i]:.3f}'\n",
    "              f' +/- {r.importances_std[i]:.3f}')\n"
   ]
  },
  {
   "cell_type": "markdown",
   "id": "2b421226",
   "metadata": {},
   "source": [
    "### Test"
   ]
  },
  {
   "cell_type": "code",
   "execution_count": 60,
   "id": "27eda620",
   "metadata": {},
   "outputs": [
    {
     "data": {
      "text/html": [
       "<div>\n",
       "<style scoped>\n",
       "    .dataframe tbody tr th:only-of-type {\n",
       "        vertical-align: middle;\n",
       "    }\n",
       "\n",
       "    .dataframe tbody tr th {\n",
       "        vertical-align: top;\n",
       "    }\n",
       "\n",
       "    .dataframe thead th {\n",
       "        text-align: right;\n",
       "    }\n",
       "</style>\n",
       "<table border=\"1\" class=\"dataframe\">\n",
       "  <thead>\n",
       "    <tr style=\"text-align: right;\">\n",
       "      <th></th>\n",
       "      <th>id</th>\n",
       "      <th>carat</th>\n",
       "      <th>cut</th>\n",
       "      <th>color</th>\n",
       "      <th>clarity</th>\n",
       "      <th>depth</th>\n",
       "      <th>table</th>\n",
       "      <th>x</th>\n",
       "      <th>y</th>\n",
       "      <th>z</th>\n",
       "      <th>city</th>\n",
       "    </tr>\n",
       "  </thead>\n",
       "  <tbody>\n",
       "    <tr>\n",
       "      <th>0</th>\n",
       "      <td>0</td>\n",
       "      <td>0.79</td>\n",
       "      <td>Very Good</td>\n",
       "      <td>F</td>\n",
       "      <td>SI1</td>\n",
       "      <td>62.7</td>\n",
       "      <td>60.0</td>\n",
       "      <td>5.82</td>\n",
       "      <td>5.89</td>\n",
       "      <td>3.67</td>\n",
       "      <td>Amsterdam</td>\n",
       "    </tr>\n",
       "    <tr>\n",
       "      <th>1</th>\n",
       "      <td>1</td>\n",
       "      <td>1.20</td>\n",
       "      <td>Ideal</td>\n",
       "      <td>J</td>\n",
       "      <td>VS1</td>\n",
       "      <td>61.0</td>\n",
       "      <td>57.0</td>\n",
       "      <td>6.81</td>\n",
       "      <td>6.89</td>\n",
       "      <td>4.18</td>\n",
       "      <td>Surat</td>\n",
       "    </tr>\n",
       "    <tr>\n",
       "      <th>2</th>\n",
       "      <td>2</td>\n",
       "      <td>1.57</td>\n",
       "      <td>Premium</td>\n",
       "      <td>H</td>\n",
       "      <td>SI1</td>\n",
       "      <td>62.2</td>\n",
       "      <td>61.0</td>\n",
       "      <td>7.38</td>\n",
       "      <td>7.32</td>\n",
       "      <td>4.57</td>\n",
       "      <td>Kimberly</td>\n",
       "    </tr>\n",
       "    <tr>\n",
       "      <th>3</th>\n",
       "      <td>3</td>\n",
       "      <td>0.90</td>\n",
       "      <td>Very Good</td>\n",
       "      <td>F</td>\n",
       "      <td>SI1</td>\n",
       "      <td>63.8</td>\n",
       "      <td>54.0</td>\n",
       "      <td>6.09</td>\n",
       "      <td>6.13</td>\n",
       "      <td>3.90</td>\n",
       "      <td>Kimberly</td>\n",
       "    </tr>\n",
       "    <tr>\n",
       "      <th>4</th>\n",
       "      <td>4</td>\n",
       "      <td>0.50</td>\n",
       "      <td>Very Good</td>\n",
       "      <td>F</td>\n",
       "      <td>VS1</td>\n",
       "      <td>62.9</td>\n",
       "      <td>58.0</td>\n",
       "      <td>5.05</td>\n",
       "      <td>5.09</td>\n",
       "      <td>3.19</td>\n",
       "      <td>Amsterdam</td>\n",
       "    </tr>\n",
       "    <tr>\n",
       "      <th>...</th>\n",
       "      <td>...</td>\n",
       "      <td>...</td>\n",
       "      <td>...</td>\n",
       "      <td>...</td>\n",
       "      <td>...</td>\n",
       "      <td>...</td>\n",
       "      <td>...</td>\n",
       "      <td>...</td>\n",
       "      <td>...</td>\n",
       "      <td>...</td>\n",
       "      <td>...</td>\n",
       "    </tr>\n",
       "    <tr>\n",
       "      <th>13480</th>\n",
       "      <td>13480</td>\n",
       "      <td>0.57</td>\n",
       "      <td>Ideal</td>\n",
       "      <td>E</td>\n",
       "      <td>SI1</td>\n",
       "      <td>61.9</td>\n",
       "      <td>56.0</td>\n",
       "      <td>5.35</td>\n",
       "      <td>5.32</td>\n",
       "      <td>3.30</td>\n",
       "      <td>Amsterdam</td>\n",
       "    </tr>\n",
       "    <tr>\n",
       "      <th>13481</th>\n",
       "      <td>13481</td>\n",
       "      <td>0.71</td>\n",
       "      <td>Ideal</td>\n",
       "      <td>I</td>\n",
       "      <td>VS2</td>\n",
       "      <td>62.2</td>\n",
       "      <td>55.0</td>\n",
       "      <td>5.71</td>\n",
       "      <td>5.73</td>\n",
       "      <td>3.56</td>\n",
       "      <td>New York City</td>\n",
       "    </tr>\n",
       "    <tr>\n",
       "      <th>13482</th>\n",
       "      <td>13482</td>\n",
       "      <td>0.70</td>\n",
       "      <td>Ideal</td>\n",
       "      <td>F</td>\n",
       "      <td>VS1</td>\n",
       "      <td>61.6</td>\n",
       "      <td>55.0</td>\n",
       "      <td>5.75</td>\n",
       "      <td>5.71</td>\n",
       "      <td>3.53</td>\n",
       "      <td>Tel Aviv</td>\n",
       "    </tr>\n",
       "    <tr>\n",
       "      <th>13483</th>\n",
       "      <td>13483</td>\n",
       "      <td>0.70</td>\n",
       "      <td>Very Good</td>\n",
       "      <td>F</td>\n",
       "      <td>SI2</td>\n",
       "      <td>58.8</td>\n",
       "      <td>57.0</td>\n",
       "      <td>5.85</td>\n",
       "      <td>5.89</td>\n",
       "      <td>3.45</td>\n",
       "      <td>Surat</td>\n",
       "    </tr>\n",
       "    <tr>\n",
       "      <th>13484</th>\n",
       "      <td>13484</td>\n",
       "      <td>0.40</td>\n",
       "      <td>Ideal</td>\n",
       "      <td>I</td>\n",
       "      <td>VVS2</td>\n",
       "      <td>62.4</td>\n",
       "      <td>55.0</td>\n",
       "      <td>4.70</td>\n",
       "      <td>4.73</td>\n",
       "      <td>2.94</td>\n",
       "      <td>New York City</td>\n",
       "    </tr>\n",
       "  </tbody>\n",
       "</table>\n",
       "<p>13485 rows × 11 columns</p>\n",
       "</div>"
      ],
      "text/plain": [
       "          id  carat        cut color clarity  depth  table     x     y     z  \\\n",
       "0          0   0.79  Very Good     F     SI1   62.7   60.0  5.82  5.89  3.67   \n",
       "1          1   1.20      Ideal     J     VS1   61.0   57.0  6.81  6.89  4.18   \n",
       "2          2   1.57    Premium     H     SI1   62.2   61.0  7.38  7.32  4.57   \n",
       "3          3   0.90  Very Good     F     SI1   63.8   54.0  6.09  6.13  3.90   \n",
       "4          4   0.50  Very Good     F     VS1   62.9   58.0  5.05  5.09  3.19   \n",
       "...      ...    ...        ...   ...     ...    ...    ...   ...   ...   ...   \n",
       "13480  13480   0.57      Ideal     E     SI1   61.9   56.0  5.35  5.32  3.30   \n",
       "13481  13481   0.71      Ideal     I     VS2   62.2   55.0  5.71  5.73  3.56   \n",
       "13482  13482   0.70      Ideal     F     VS1   61.6   55.0  5.75  5.71  3.53   \n",
       "13483  13483   0.70  Very Good     F     SI2   58.8   57.0  5.85  5.89  3.45   \n",
       "13484  13484   0.40      Ideal     I    VVS2   62.4   55.0  4.70  4.73  2.94   \n",
       "\n",
       "                city  \n",
       "0          Amsterdam  \n",
       "1              Surat  \n",
       "2           Kimberly  \n",
       "3           Kimberly  \n",
       "4          Amsterdam  \n",
       "...              ...  \n",
       "13480      Amsterdam  \n",
       "13481  New York City  \n",
       "13482       Tel Aviv  \n",
       "13483          Surat  \n",
       "13484  New York City  \n",
       "\n",
       "[13485 rows x 11 columns]"
      ]
     },
     "execution_count": 60,
     "metadata": {},
     "output_type": "execute_result"
    }
   ],
   "source": [
    "# load df test\n",
    "diamonds_test = pd.read_csv('../data/diamonds_test.csv').rename(columns={'index_id': 'id'})\n",
    "diamonds_test"
   ]
  },
  {
   "cell_type": "code",
   "execution_count": 61,
   "id": "702e15be",
   "metadata": {},
   "outputs": [
    {
     "name": "stdout",
     "output_type": "stream",
     "text": [
      "(13485, 7)\n"
     ]
    }
   ],
   "source": [
    "diamonds_test_clean = diamonds_test.copy()\n",
    "# apply clean\n",
    "diamonds_test_clean = ordinal_encoding(diamonds_test_clean)\n",
    "diamonds_test_clean = add_features(diamonds_test_clean)\n",
    "\n",
    "# get final df\n",
    "col_target = ''\n",
    "X_diamonds_test, y_diamonds_test = X_y_split(diamonds_test_clean, cols_features, col_target)\n",
    "\n",
    "print(X_diamonds_test.shape)\n",
    "\n",
    "X_diamonds_test = scaling(X_diamonds_test)"
   ]
  },
  {
   "cell_type": "code",
   "execution_count": 62,
   "id": "ba4e723e",
   "metadata": {},
   "outputs": [
    {
     "data": {
      "text/html": [
       "<div>\n",
       "<style scoped>\n",
       "    .dataframe tbody tr th:only-of-type {\n",
       "        vertical-align: middle;\n",
       "    }\n",
       "\n",
       "    .dataframe tbody tr th {\n",
       "        vertical-align: top;\n",
       "    }\n",
       "\n",
       "    .dataframe thead th {\n",
       "        text-align: right;\n",
       "    }\n",
       "</style>\n",
       "<table border=\"1\" class=\"dataframe\">\n",
       "  <thead>\n",
       "    <tr style=\"text-align: right;\">\n",
       "      <th></th>\n",
       "      <th>carat</th>\n",
       "      <th>cut</th>\n",
       "      <th>color</th>\n",
       "      <th>clarity</th>\n",
       "      <th>depth</th>\n",
       "      <th>table</th>\n",
       "      <th>volume</th>\n",
       "    </tr>\n",
       "  </thead>\n",
       "  <tbody>\n",
       "    <tr>\n",
       "      <th>0</th>\n",
       "      <td>0.140625</td>\n",
       "      <td>-0.5</td>\n",
       "      <td>0.333333</td>\n",
       "      <td>-0.5</td>\n",
       "      <td>0.533333</td>\n",
       "      <td>1.0</td>\n",
       "      <td>0.101505</td>\n",
       "    </tr>\n",
       "    <tr>\n",
       "      <th>1</th>\n",
       "      <td>0.781250</td>\n",
       "      <td>0.5</td>\n",
       "      <td>-1.000000</td>\n",
       "      <td>0.5</td>\n",
       "      <td>-0.600000</td>\n",
       "      <td>0.0</td>\n",
       "      <td>0.770379</td>\n",
       "    </tr>\n",
       "  </tbody>\n",
       "</table>\n",
       "</div>"
      ],
      "text/plain": [
       "      carat  cut     color  clarity     depth  table    volume\n",
       "0  0.140625 -0.5  0.333333     -0.5  0.533333    1.0  0.101505\n",
       "1  0.781250  0.5 -1.000000      0.5 -0.600000    0.0  0.770379"
      ]
     },
     "execution_count": 62,
     "metadata": {},
     "output_type": "execute_result"
    }
   ],
   "source": [
    "X_diamonds_test.head(2)"
   ]
  },
  {
   "cell_type": "code",
   "execution_count": 63,
   "id": "d0556756",
   "metadata": {},
   "outputs": [],
   "source": [
    "# predict and save\n",
    "df_result_diamonds = test_predict(X_diamonds_test, model)\n",
    "save_csv(df_result_diamonds, 'HGBR_2')"
   ]
  },
  {
   "cell_type": "code",
   "execution_count": null,
   "id": "69ebdf77",
   "metadata": {},
   "outputs": [],
   "source": []
  },
  {
   "cell_type": "code",
   "execution_count": null,
   "id": "f882882e",
   "metadata": {},
   "outputs": [],
   "source": []
  },
  {
   "cell_type": "code",
   "execution_count": 64,
   "id": "099efdee",
   "metadata": {},
   "outputs": [
    {
     "data": {
      "text/plain": [
       "min       344.524846\n",
       "max     18449.916147\n",
       "mean     3950.444710\n",
       "Name: price, dtype: float64"
      ]
     },
     "execution_count": 64,
     "metadata": {},
     "output_type": "execute_result"
    }
   ],
   "source": [
    "df_result_diamonds['price'].agg(['min', 'max', 'mean'])"
   ]
  },
  {
   "cell_type": "code",
   "execution_count": 65,
   "id": "4b0472ea",
   "metadata": {},
   "outputs": [
    {
     "data": {
      "text/plain": [
       "min       326.000000\n",
       "max     18823.000000\n",
       "mean     3928.444469\n",
       "Name: price, dtype: float64"
      ]
     },
     "execution_count": 65,
     "metadata": {},
     "output_type": "execute_result"
    }
   ],
   "source": [
    "diamonds_train['price'].agg(['min', 'max', 'mean'])"
   ]
  }
 ],
 "metadata": {
  "kernelspec": {
   "display_name": "Python [conda env:sklearn_env]",
   "language": "python",
   "name": "conda-env-sklearn_env-py"
  },
  "language_info": {
   "codemirror_mode": {
    "name": "ipython",
    "version": 3
   },
   "file_extension": ".py",
   "mimetype": "text/x-python",
   "name": "python",
   "nbconvert_exporter": "python",
   "pygments_lexer": "ipython3",
   "version": "3.10.4"
  }
 },
 "nbformat": 4,
 "nbformat_minor": 5
}
